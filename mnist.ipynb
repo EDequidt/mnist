{
 "cells": [
  {
   "cell_type": "markdown",
   "id": "3fe84011-87d5-4b5b-bff1-c86ed10d6dc8",
   "metadata": {},
   "source": [
    "# MNIST, Reconnaître les chiffres écrits à la main !\n",
    "###### Modified National Institute of Standards and Technology"
   ]
  },
  {
   "cell_type": "code",
   "execution_count": 1,
   "id": "6d86e3e0-cf25-46fe-b4c4-37a1bd9a362d",
   "metadata": {},
   "outputs": [],
   "source": [
    "import tensorflow"
   ]
  },
  {
   "cell_type": "markdown",
   "id": "3e5d4bc6-b678-4bfe-8ce8-50bd4bdd981e",
   "metadata": {},
   "source": [
    "### Import du jeu de données \"mnist\" intégré directement à tensorflow, puis chargement des données dans les variables\n",
    "Le jeu de données MNIST est composé d'un jeu d'entrainement de 60 000 entrées labelisées, pour savoir quels sont les résultats attendus et que l'algorithme s'entraine avec, ainsi que d'un jeu de test composé de 10 000 entrées labelisées aussi, avec lequel je vais pouvoir évaluer la précision du modèle en comparant sa réponse au label fourni\n",
    "\n",
    "Chaque entrée est un tableau de nombres à deux dimensions ayant une valeur entre 0 et 1 représentant les pixels de l'image. Chaque image réprésente un chiffre entre 0 et 9 que notre modèle va s'entrainer à reconnaitre avec le jeu d'entrainement, puis que je vais évaluer avec le jeu de test"
   ]
  },
  {
   "cell_type": "code",
   "execution_count": 2,
   "id": "15630af9-1668-4271-9f17-8429b08a04d5",
   "metadata": {},
   "outputs": [],
   "source": [
    "from tensorflow.keras.datasets import mnist\n",
    "(train_images, train_labels), (test_images, test_labels) = mnist.load_data()"
   ]
  },
  {
   "cell_type": "code",
   "execution_count": 3,
   "id": "a980c751-0339-453e-bd5f-58e26052132b",
   "metadata": {},
   "outputs": [
    {
     "data": {
      "text/plain": [
       "(60000, 28, 28)"
      ]
     },
     "execution_count": 3,
     "metadata": {},
     "output_type": "execute_result"
    }
   ],
   "source": [
    "train_images.shape"
   ]
  },
  {
   "cell_type": "code",
   "execution_count": 4,
   "id": "73b66734-60fc-4b43-8c1d-26978f49412e",
   "metadata": {},
   "outputs": [
    {
     "data": {
      "text/plain": [
       "60000"
      ]
     },
     "execution_count": 4,
     "metadata": {},
     "output_type": "execute_result"
    }
   ],
   "source": [
    "len(train_labels)"
   ]
  },
  {
   "cell_type": "code",
   "execution_count": 5,
   "id": "79e9d5f0-ec21-442e-80a9-58274e295d71",
   "metadata": {},
   "outputs": [
    {
     "data": {
      "text/plain": [
       "(10000, 28, 28)"
      ]
     },
     "execution_count": 5,
     "metadata": {},
     "output_type": "execute_result"
    }
   ],
   "source": [
    "test_images.shape"
   ]
  },
  {
   "cell_type": "code",
   "execution_count": 6,
   "id": "9adb716c-aa3f-4994-b1f1-19afb58d8db0",
   "metadata": {},
   "outputs": [
    {
     "data": {
      "text/plain": [
       "10000"
      ]
     },
     "execution_count": 6,
     "metadata": {},
     "output_type": "execute_result"
    }
   ],
   "source": [
    "len(test_labels)"
   ]
  },
  {
   "cell_type": "markdown",
   "id": "9ddf2a2a-81ef-45ff-b712-df76ffaedf3a",
   "metadata": {},
   "source": [
    "### Import de l'architecture\n",
    "\n",
    "Nous allons maintenant importé les couches ou \"layers\" pour filtrer nos données. Des données rentrent, puis ressortent dans une forme qui nous est plus utile. La plupart des algorithmes de deep learning consistent à enchaîner plusieurs layers simples qui vont implémenter une forme de \"distillation des données\" tel un tamis."
   ]
  },
  {
   "cell_type": "code",
   "execution_count": 7,
   "id": "5273a259-df33-4ee2-84ce-b57356b6404e",
   "metadata": {},
   "outputs": [],
   "source": [
    "from tensorflow import keras\n",
    "from tensorflow.keras import layers\n",
    "model = keras.Sequential([\n",
    "layers.Dense(512, activation=\"relu\"),\n",
    "layers.Dense(10, activation=\"softmax\")\n",
    "])"
   ]
  },
  {
   "cell_type": "markdown",
   "id": "c1850ce2-4ee4-4c48-8b15-a9a075aa3106",
   "metadata": {},
   "source": [
    "Ici nous avons 2 \"Dense\" layers connectées. La 2e layer est une classification softmax à 10 scores. Elle va donc renvoyer 10 scores de probabilité (qui s'additionnent jusqu'à un total de 1) chaque score étant la probabilité que le chiffre de l'image appartienne à une de ces 10 valeurs."
   ]
  },
  {
   "cell_type": "code",
   "execution_count": 8,
   "id": "b736cef0-3646-418e-b730-88a8fe305fb2",
   "metadata": {},
   "outputs": [],
   "source": [
    "model.compile(optimizer=\"rmsprop\",\n",
    "loss=\"sparse_categorical_crossentropy\",\n",
    "metrics=[\"accuracy\"])"
   ]
  },
  {
   "cell_type": "markdown",
   "id": "ff0391c0-62e3-4d1e-8851-126820129d97",
   "metadata": {},
   "source": [
    "Maintenant préparer notre modèle à l'entrainement il nous faut 3 choses supplémentaires:\n",
    " - Un optimiseur, qui va définir comment le modèle va s'adapter aux données qu'il vois pour améliorer sa performance\n",
    " - Une fonction de perte (loss), ou comment le modèle va pouvoir évaluer sa performance et ainsi partir dans la bonne direction\n",
    " - Des valeurs indicateur pour surveiller la performance pendant l'entrainement et le test. Ici on va simplement se contenter de la précision (accuracy)"
   ]
  },
  {
   "cell_type": "code",
   "execution_count": 9,
   "id": "5a66a7ce-6f08-4205-bd43-84c9c6a8fd6d",
   "metadata": {},
   "outputs": [],
   "source": [
    "train_images = train_images.reshape((60000, 28 * 28))\n",
    "train_images = train_images.astype(\"float32\") / 255\n",
    "test_images = test_images.reshape((10000, 28 * 28))\n",
    "test_images = test_images.astype(\"float32\") / 255"
   ]
  },
  {
   "cell_type": "markdown",
   "id": "7b2472cb-6d51-47ac-aa44-ad60a456e589",
   "metadata": {},
   "source": [
    "Avant l'entrainement je vais modifier la forme des données pour qu'elles soient lisibles par notre modèle. Je vais d'abord changer le typage des données, passant de uint8 à float32 puis je passe de valeurs entre 0 et 255, à des valeurs entre 0 et 1. \n",
    "\n",
    "Je suis maintenant prêt à commentcer l'entrainement du modèle. Avec Keras cela se fait avec un appel à la fonction \"fit()\" qui va \"fit\" mon modèle aux données d'entrainement"
   ]
  },
  {
   "cell_type": "code",
   "execution_count": 10,
   "id": "e6d53beb-92dd-409a-b3c5-edcdcf88930b",
   "metadata": {},
   "outputs": [
    {
     "name": "stdout",
     "output_type": "stream",
     "text": [
      "Epoch 1/5\n",
      "\u001b[1m469/469\u001b[0m \u001b[32m━━━━━━━━━━━━━━━━━━━━\u001b[0m\u001b[37m\u001b[0m \u001b[1m2s\u001b[0m 2ms/step - accuracy: 0.8740 - loss: 0.4396\n",
      "Epoch 2/5\n",
      "\u001b[1m469/469\u001b[0m \u001b[32m━━━━━━━━━━━━━━━━━━━━\u001b[0m\u001b[37m\u001b[0m \u001b[1m1s\u001b[0m 2ms/step - accuracy: 0.9661 - loss: 0.1171\n",
      "Epoch 3/5\n",
      "\u001b[1m469/469\u001b[0m \u001b[32m━━━━━━━━━━━━━━━━━━━━\u001b[0m\u001b[37m\u001b[0m \u001b[1m1s\u001b[0m 2ms/step - accuracy: 0.9791 - loss: 0.0712\n",
      "Epoch 4/5\n",
      "\u001b[1m469/469\u001b[0m \u001b[32m━━━━━━━━━━━━━━━━━━━━\u001b[0m\u001b[37m\u001b[0m \u001b[1m1s\u001b[0m 2ms/step - accuracy: 0.9857 - loss: 0.0489\n",
      "Epoch 5/5\n",
      "\u001b[1m469/469\u001b[0m \u001b[32m━━━━━━━━━━━━━━━━━━━━\u001b[0m\u001b[37m\u001b[0m \u001b[1m1s\u001b[0m 2ms/step - accuracy: 0.9892 - loss: 0.0368\n"
     ]
    },
    {
     "data": {
      "text/plain": [
       "<keras.src.callbacks.history.History at 0x1902f57fb60>"
      ]
     },
     "execution_count": 10,
     "metadata": {},
     "output_type": "execute_result"
    }
   ],
   "source": [
    "model.fit(train_images, train_labels, epochs=5, batch_size=128)"
   ]
  },
  {
   "cell_type": "markdown",
   "id": "1b74bc50-9d35-4f7d-95e5-ee499b115dd4",
   "metadata": {},
   "source": [
    "2 quantités sont affichées pendant l'entrainement, la perte du modèle sur les données d'entrainement, et la précision du modèle sur les données d'entrainement.\n",
    "Maintenant que le modèle est entrainé, je peux l'utiliser pour \"prédire\" la valeur d'un chiffre à partir de données qui ne sont pas dans le jeu d'entrainement."
   ]
  },
  {
   "cell_type": "code",
   "execution_count": 11,
   "id": "e7d844d0-d38e-43cb-810e-788ed8a2329d",
   "metadata": {},
   "outputs": [
    {
     "name": "stdout",
     "output_type": "stream",
     "text": [
      "\u001b[1m1/1\u001b[0m \u001b[32m━━━━━━━━━━━━━━━━━━━━\u001b[0m\u001b[37m\u001b[0m \u001b[1m0s\u001b[0m 44ms/step\n"
     ]
    },
    {
     "data": {
      "text/plain": [
       "array([3.0481889e-08, 6.4099037e-10, 8.9815438e-07, 5.8569341e-05,\n",
       "       1.6087943e-11, 7.4706819e-08, 1.0736291e-12, 9.9992764e-01,\n",
       "       8.7506542e-08, 1.2638585e-05], dtype=float32)"
      ]
     },
     "execution_count": 11,
     "metadata": {},
     "output_type": "execute_result"
    }
   ],
   "source": [
    "test_digits = test_images[0:20]\n",
    "predictions = model.predict(test_digits)\n",
    "predictions[0]"
   ]
  },
  {
   "cell_type": "markdown",
   "id": "15e9fc0f-539d-4751-85fb-6edf3a88b34c",
   "metadata": {},
   "source": [
    "Chaque nombre dans ce tableau prediction[0] représente la probabilité que chaque chiffre corresponde à l'image. Ici la probabilité la plus haute est à l'index numéro 7, selon notre modèle cela doit donc être un 7"
   ]
  },
  {
   "cell_type": "code",
   "execution_count": 12,
   "id": "306e03d6-daf0-45cb-a6e8-8679768926b6",
   "metadata": {},
   "outputs": [
    {
     "data": {
      "text/plain": [
       "7"
      ]
     },
     "execution_count": 12,
     "metadata": {},
     "output_type": "execute_result"
    }
   ],
   "source": [
    "predictions[0].argmax()"
   ]
  },
  {
   "cell_type": "code",
   "execution_count": 13,
   "id": "89483289-bd4e-4a1c-bbef-32d20325048b",
   "metadata": {},
   "outputs": [
    {
     "data": {
      "text/plain": [
       "0.99999106"
      ]
     },
     "execution_count": 13,
     "metadata": {},
     "output_type": "execute_result"
    }
   ],
   "source": [
    "predictions[0][7]\n",
    "0.99999106"
   ]
  },
  {
   "cell_type": "code",
   "execution_count": 14,
   "id": "79633822-dd33-4a69-b607-61eb48ab4779",
   "metadata": {},
   "outputs": [
    {
     "data": {
      "text/plain": [
       "7"
      ]
     },
     "execution_count": 14,
     "metadata": {},
     "output_type": "execute_result"
    }
   ],
   "source": [
    "test_labels[0]"
   ]
  },
  {
   "cell_type": "markdown",
   "id": "4af0b170-5377-4e87-8922-2a5935ec5864",
   "metadata": {},
   "source": [
    "On peut vérifier ici dans le label si c'est bien un 7"
   ]
  },
  {
   "cell_type": "code",
   "execution_count": 15,
   "id": "85ee5629-399e-4fdb-8222-16367bb37bbb",
   "metadata": {},
   "outputs": [
    {
     "name": "stdout",
     "output_type": "stream",
     "text": [
      "\u001b[1m313/313\u001b[0m \u001b[32m━━━━━━━━━━━━━━━━━━━━\u001b[0m\u001b[37m\u001b[0m \u001b[1m0s\u001b[0m 777us/step - accuracy: 0.9742 - loss: 0.0776\n"
     ]
    }
   ],
   "source": [
    "test_loss, test_acc = model.evaluate(test_images, test_labels)"
   ]
  },
  {
   "cell_type": "markdown",
   "id": "856ee594-2482-42ce-aad6-ae70ff58a017",
   "metadata": {},
   "source": [
    "J'appelle la fonction evaluate() pour tester mon modèle sur les données de test et je récupère les valeurs de perte et de précision"
   ]
  },
  {
   "cell_type": "code",
   "execution_count": 16,
   "id": "89c73c19-709f-46fa-98fc-0c8f458ce0ee",
   "metadata": {},
   "outputs": [
    {
     "name": "stdout",
     "output_type": "stream",
     "text": [
      "test_acc: 0.9787999987602234\n"
     ]
    }
   ],
   "source": [
    "print(f\"test_acc: {test_acc}\")"
   ]
  },
  {
   "cell_type": "markdown",
   "id": "88ca5880-8a96-4a81-808e-c549bc546f24",
   "metadata": {},
   "source": [
    "La précision du jeu de test est de 97.8%, plus bas qu'avec notre jeu d'entrainement à 98.9%"
   ]
  },
  {
   "cell_type": "markdown",
   "id": "ff59368c-41ac-412d-bf07-d37bbfb9dab5",
   "metadata": {},
   "source": [
    "# Les tenseurs"
   ]
  },
  {
   "cell_type": "markdown",
   "id": "e61b4dae-2cba-4bc4-8b1b-bc63ea700a09",
   "metadata": {},
   "source": [
    "Dans l'exemple précédent, j'ai utilisé les données d'un \"tableau multidimensionnel\" NumPy, aussi appelés des tenseurs. En général, la plupart des systèmes d'apprentissage machine utilisent des tenseurs, ils sont fondamentaux dans ce domaine, à tel point que \"TensorFlow\" a été nommé d'après eux."
   ]
  },
  {
   "cell_type": "markdown",
   "id": "c04315ef-0fb9-42ff-b7d9-e6e82b045768",
   "metadata": {},
   "source": [
    "## Qu'est ce qu'un tenseur ?"
   ]
  },
  {
   "cell_type": "markdown",
   "id": "4c14fb1d-4bf4-4caa-a359-38bc99941491",
   "metadata": {},
   "source": [
    "Un tenseur par nature est un conteneur de données, en général numériques. Un des format de données les plus répandu est la matrice, qui est simplement un tenseur de rang 2. Les tenseurs sont une généralisation des matrices avec un nombre arbitraire de dimensions, aussi appelés axes"
   ]
  },
  {
   "cell_type": "markdown",
   "id": "4b0f85ab-5d4f-4427-85b4-26828acc6ccb",
   "metadata": {},
   "source": [
    "### Scalars (tenseur de rang 0)\n",
    "Un tenseur avec un seul chiffre est un \"scalar\". Il est considéré comme un tenseur à 0 dimensions ou \"0D Tensor\".\n",
    "On peut afficher le nombres de dimension d'un tenseur avec la fonction \".ndim\" On l'appelle aussi tenseur de rang 0"
   ]
  },
  {
   "cell_type": "code",
   "execution_count": 18,
   "id": "b2fac08f-abfa-494d-8e7f-20d8dd1b5500",
   "metadata": {},
   "outputs": [
    {
     "data": {
      "text/plain": [
       "array(12)"
      ]
     },
     "execution_count": 18,
     "metadata": {},
     "output_type": "execute_result"
    }
   ],
   "source": [
    "import numpy as np\n",
    "x = np.array(12)\n",
    "x"
   ]
  },
  {
   "cell_type": "code",
   "execution_count": 19,
   "id": "3f9749d3-8292-4d93-aac0-40be0689c2df",
   "metadata": {},
   "outputs": [
    {
     "data": {
      "text/plain": [
       "0"
      ]
     },
     "execution_count": 19,
     "metadata": {},
     "output_type": "execute_result"
    }
   ],
   "source": [
    "x.ndim"
   ]
  },
  {
   "cell_type": "markdown",
   "id": "a87e3e63-7d33-4039-b9a7-8e4a69c4860b",
   "metadata": {},
   "source": [
    "### Vecteurs (tenseur de rang 1)\n",
    "Un tableau de nombre est appelé un vecteur ou tenseur de rang 1. Il possède une dimension/axe. Voici un vecteur NumPy"
   ]
  },
  {
   "cell_type": "code",
   "execution_count": 20,
   "id": "93eaff65-0ddc-4097-9ab3-c017668a51a0",
   "metadata": {},
   "outputs": [
    {
     "data": {
      "text/plain": [
       "array([12,  3,  6, 14,  7])"
      ]
     },
     "execution_count": 20,
     "metadata": {},
     "output_type": "execute_result"
    }
   ],
   "source": [
    "x = np.array([12, 3, 6, 14, 7])\n",
    "x"
   ]
  },
  {
   "cell_type": "code",
   "execution_count": 21,
   "id": "383df89b-85db-4957-9968-396e8404c73e",
   "metadata": {},
   "outputs": [
    {
     "data": {
      "text/plain": [
       "1"
      ]
     },
     "execution_count": 21,
     "metadata": {},
     "output_type": "execute_result"
    }
   ],
   "source": [
    "x.ndim"
   ]
  },
  {
   "cell_type": "markdown",
   "id": "afef65ce-aac7-4d08-a917-ea892da8fb6c",
   "metadata": {},
   "source": [
    "Ce vecteur possède 5 entrées, aussi appelé un vecteur à 5 dimensions. Il ne faut pas confondre un \"5D Vector\" avec un \"5D Tensor\" ! Un vecteur à 5 dimensions a\n",
    "2.2.2"
   ]
  }
 ],
 "metadata": {
  "kernelspec": {
   "display_name": "Python 3 (ipykernel)",
   "language": "python",
   "name": "python3"
  },
  "language_info": {
   "codemirror_mode": {
    "name": "ipython",
    "version": 3
   },
   "file_extension": ".py",
   "mimetype": "text/x-python",
   "name": "python",
   "nbconvert_exporter": "python",
   "pygments_lexer": "ipython3",
   "version": "3.12.4"
  }
 },
 "nbformat": 4,
 "nbformat_minor": 5
}
